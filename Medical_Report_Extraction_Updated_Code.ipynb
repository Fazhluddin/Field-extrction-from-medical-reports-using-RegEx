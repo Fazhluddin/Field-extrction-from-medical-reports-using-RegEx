{
 "cells": [
  {
   "cell_type": "markdown",
   "metadata": {},
   "source": [
    "## Loading Packages"
   ]
  },
  {
   "cell_type": "code",
   "execution_count": 1,
   "metadata": {},
   "outputs": [],
   "source": [
    "import tkinter \n",
    "from tkinter import *\n",
    "from tkinter import filedialog #to load a file using a dialog box\n",
    "\n",
    "import tika\n",
    "from tika import parser #to convert pdf to text\n",
    "\n",
    "\n",
    "import re #to extract regular expressions\n",
    "\n",
    "import pandas as pd\n"
   ]
  },
  {
   "cell_type": "markdown",
   "metadata": {},
   "source": [
    "## Dialog box to load the PDF"
   ]
  },
  {
   "cell_type": "code",
   "execution_count": 2,
   "metadata": {},
   "outputs": [],
   "source": [
    "root = Tk()\n",
    "root.filename =  filedialog.askopenfilename(initialdir = \"/\",title = \"Select file\",filetypes = ((\"pdf files\",\"*pdf\"),(\"all files\",\"*.*\")))"
   ]
  },
  {
   "cell_type": "markdown",
   "metadata": {},
   "source": [
    "## Converting PDF to Text"
   ]
  },
  {
   "cell_type": "code",
   "execution_count": 20,
   "metadata": {},
   "outputs": [],
   "source": [
    "parsed = parser.from_file(root.filename)\n",
    "text1 = (parsed[\"content\"])\n",
    "#print(text1)"
   ]
  },
  {
   "cell_type": "markdown",
   "metadata": {},
   "source": [
    "## Field extraction"
   ]
  },
  {
   "cell_type": "markdown",
   "metadata": {},
   "source": [
    "## Gender"
   ]
  },
  {
   "cell_type": "code",
   "execution_count": 21,
   "metadata": {},
   "outputs": [
    {
     "data": {
      "text/plain": [
       "[' M']"
      ]
     },
     "execution_count": 21,
     "metadata": {},
     "output_type": "execute_result"
    }
   ],
   "source": [
    "pattern_gender=re.findall(r'(?<=Gender:)\\s\\w+|(?<=Sex:)\\s\\w+|(?<=Gender)\\s\\w+|(?<=Sex)\\s\\w+',text, re.IGNORECASE)\n",
    "#pattern_gender"
   ]
  },
  {
   "cell_type": "markdown",
   "metadata": {},
   "source": [
    "## D.O.B"
   ]
  },
  {
   "cell_type": "code",
   "execution_count": 22,
   "metadata": {},
   "outputs": [
    {
     "data": {
      "text/plain": [
       "[' 17/09/2007']"
      ]
     },
     "execution_count": 22,
     "metadata": {},
     "output_type": "execute_result"
    }
   ],
   "source": [
    "pattern_DOB=re.findall(r'(?<=Birth Date:)\\s\\d{2}/\\d{2}/\\d{4}|(?<=Birthdate)[\\s\\S]*?(?=\\n)|(?<=DOB)[\\s\\S]*?(?=\\n)|(?<=Date of Birth:)\\s\\d{2}/\\d{2}/\\d{4}|(?<=DOB)\\s\\d{2}\\s\\w|(?<=Date of Birth)\\s\\d{2}/\\d{2}/\\d{4}',text, re.IGNORECASE)\n",
    "#pattern_DOB"
   ]
  },
  {
   "cell_type": "markdown",
   "metadata": {},
   "source": [
    "## Doctor Name"
   ]
  },
  {
   "cell_type": "code",
   "execution_count": 44,
   "metadata": {},
   "outputs": [
    {
     "data": {
      "text/plain": [
       "[' Damien Martin']"
      ]
     },
     "execution_count": 44,
     "metadata": {},
     "output_type": "execute_result"
    }
   ],
   "source": [
    "pattern_doctor_name=re.findall(r'(?<=physician name:)\\s\\w{2,20}?\\s\\w{2,20}?\\s?\\w{2,20}|(?<=PHYSICIAN NAME:)\\s\\w{2,20}?\\s?\\w{2,20}?\\s?\\w{2,20}|(?<=PHYSICIAN NAME)\\s\\w{2,20}?\\s?\\w{2,20}?\\s?\\w{2,20}|(?<=full name of doctor:)\\s\\w{2,20}?\\s?\\w{2,20}?\\s?\\w{2,20}|(?<=Name of Doctor:)\\s\\w{2,20}?\\s?\\w{2,20}?\\s?\\w{2,20}|(?<=Physician’s name:)\\s\\w{2,20}?\\s\\w{2,20}?\\s?\\w{2,20}|(?<=DOCTOR NAME:)\\s\\w{2,20}?\\s\\w{2,20}?\\s?\\w{2,20}|(?<=name of doctor)\\s\\w{2,20}?\\s?\\w{2,20}?\\s?\\w{2,20}|(?<=Physician/Affiliation:)\\s\\w{2,20}?\\s\\w{2,20}?\\s?\\w{2,20}',text, re.IGNORECASE)\n",
    "#pattern_doctor_name"
   ]
  },
  {
   "cell_type": "markdown",
   "metadata": {},
   "source": [
    "## Patient Name"
   ]
  },
  {
   "cell_type": "code",
   "execution_count": 42,
   "metadata": {},
   "outputs": [
    {
     "data": {
      "text/plain": [
       "[' Jonathan Trott']"
      ]
     },
     "execution_count": 42,
     "metadata": {},
     "output_type": "execute_result"
    }
   ],
   "source": [
    "pattern_patient_name=re.findall(r'(?<=Full name of patient:)\\s\\w{2,20}?\\s\\w{2,20}?\\s?\\w{2,20}|(?<=patient Name:)\\s\\w{2,20}?\\s?\\w{2,20}?\\s?\\w{2,20}|(?<=Name of Child)\\s\\w{2,20}?\\s?\\w{2,20}?\\s?\\w{2,20}|(?<=NAME OF PATIENT)\\s\\w{2,20}?\\s\\w{2,20}?\\s?\\w{2,20}|(?<=Applicant Name)\\s\\w{2,20}?\\s?\\w{2,20}?\\s?\\w{2,20}|(?<=PATIENT NAME)\\s\\w{2,20}|(?<=NAME OF APPLICANT:)\\s\\w{2,20}?\\s\\w{2,20}?\\s?\\w{2,20}',text, re.IGNORECASE)\n",
    "#pattern_patient_name"
   ]
  },
  {
   "cell_type": "markdown",
   "metadata": {},
   "source": [
    "## Clininc Name"
   ]
  },
  {
   "cell_type": "code",
   "execution_count": 27,
   "metadata": {},
   "outputs": [],
   "source": [
    "pattern_clinic_name=re.findall(r'(?<=Hospital / Clinic name and address:)\\s\\w+\\s\\w+\\s\\w+|(?<=Location of Care:)\\s\\w+?\\s\\w+|(?<=EXAMINING FACILITY)\\s\\w+?\\s\\w+?\\s?\\w+',text, re.IGNORECASE)\n",
    "#pattern_clinic_name"
   ]
  },
  {
   "cell_type": "markdown",
   "metadata": {},
   "source": [
    "## Disease"
   ]
  },
  {
   "cell_type": "code",
   "execution_count": 45,
   "metadata": {},
   "outputs": [],
   "source": [
    "pattern_disease=re.findall(r'(?<=Disease:)\\s\\w+?\\s?\\w+?\\s?\\w+?\\s?\\w+|(?<=Problems:)\\s\\w+?\\s\\w+?\\s?\\w+?\\s?\\w+|(?<=Issue:)\\s\\w+?\\s?\\w+?\\s?\\w+?\\s?\\w+|(?<=Disease)\\s\\w{2,20}?\\s\\w{2,20}|(?<=Problem)\\s\\w+?\\s\\w+?\\s?\\w+?\\s?\\w+',text, re.IGNORECASE)\n",
    "#pattern_disease"
   ]
  },
  {
   "cell_type": "markdown",
   "metadata": {},
   "source": [
    "## Creating a Data Frame"
   ]
  },
  {
   "cell_type": "code",
   "execution_count": 48,
   "metadata": {},
   "outputs": [],
   "source": [
    "#to create a dataframe of the extracted fields\n",
    "data = pd.DataFrame({'Gender':[pattern_gender],\n",
    "                   'Doc_Name': [pattern_doctor_name],\n",
    "                   'Patient_Name': [pattern_patient_name],\n",
    "                   'DOB': [pattern_DOB],\n",
    "                   'Clinic_name': [pattern_clinic_name],\n",
    "                   'Disease': [pattern_disease]})\n",
    "\n",
    "#data"
   ]
  },
  {
   "cell_type": "markdown",
   "metadata": {},
   "source": [
    "from openpyxl import load_workbook\n",
    "from openpyxl.utils.dataframe import dataframe_to_rows\n",
    "wb = load_workbook(\"C://Users/user/Med_Rep\")\n",
    "ws = wb[SHEETNAME]\n",
    "for row in dataframe_to_rows(dt_today):\n",
    "    ws.append(row)"
   ]
  },
  {
   "cell_type": "markdown",
   "metadata": {},
   "source": [
    "## Loading the existing excel sheet"
   ]
  },
  {
   "cell_type": "code",
   "execution_count": 49,
   "metadata": {},
   "outputs": [],
   "source": [
    "df = pd.read_csv(\"C://Users/user/Med_Report_Extract.csv\")"
   ]
  },
  {
   "cell_type": "markdown",
   "metadata": {},
   "source": [
    "## Appending the data to the existing excel sheet"
   ]
  },
  {
   "cell_type": "code",
   "execution_count": 50,
   "metadata": {},
   "outputs": [],
   "source": [
    "datanew = data.append(df, ignore_index=True)"
   ]
  },
  {
   "cell_type": "markdown",
   "metadata": {},
   "source": [
    "## Writing the excel sheet with new data"
   ]
  },
  {
   "cell_type": "code",
   "execution_count": 51,
   "metadata": {},
   "outputs": [],
   "source": [
    "#we use the same name for saving the new excel sheet as the earlier one to avoid multiple copies. This way it will overwrite  the existing file with new data\n",
    "\n",
    "datanew.to_csv(\"C://Users/user/Med_Report_Extract.csv\", index=False)\n"
   ]
  },
  {
   "cell_type": "code",
   "execution_count": null,
   "metadata": {},
   "outputs": [],
   "source": []
  },
  {
   "cell_type": "code",
   "execution_count": null,
   "metadata": {},
   "outputs": [],
   "source": []
  }
 ],
 "metadata": {
  "kernelspec": {
   "display_name": "Python 3",
   "language": "python",
   "name": "python3"
  },
  "language_info": {
   "codemirror_mode": {
    "name": "ipython",
    "version": 3
   },
   "file_extension": ".py",
   "mimetype": "text/x-python",
   "name": "python",
   "nbconvert_exporter": "python",
   "pygments_lexer": "ipython3",
   "version": "3.6.5"
  }
 },
 "nbformat": 4,
 "nbformat_minor": 2
}
